{
 "cells": [
  {
   "cell_type": "code",
   "execution_count": null,
   "metadata": {},
   "outputs": [],
   "source": [
    "%load_ext autoreload\n",
    "%autoreload 2"
   ]
  },
  {
   "cell_type": "code",
   "execution_count": null,
   "metadata": {},
   "outputs": [],
   "source": [
    "!printf feast_speed_testing/**\\\\ndata/**\\\\n.*\\\\n*.ipynb\\\\nregistry.db > .feastignore"
   ]
  },
  {
   "cell_type": "code",
   "execution_count": null,
   "metadata": {},
   "outputs": [],
   "source": [
    "%pip install 'feast[postgres, redis]' psycopg2"
   ]
  },
  {
   "cell_type": "code",
   "execution_count": null,
   "metadata": {},
   "outputs": [],
   "source": [
    "!feast apply"
   ]
  },
  {
   "cell_type": "code",
   "execution_count": null,
   "metadata": {},
   "outputs": [],
   "source": [
    "from numpy import arange, random\n",
    "from datetime import datetime\n",
    "\n",
    "addresses = arange(0, 10000)\n",
    "num_beds = random.randint(1, 10, 10000)\n",
    "norm_basement_sq_ft = random.rand(10000) * 1.1\n",
    "timestamps = [datetime.now() for i in range(10000)]"
   ]
  },
  {
   "cell_type": "code",
   "execution_count": null,
   "metadata": {},
   "outputs": [],
   "source": [
    "from pandas import DataFrame\n",
    "\n",
    "data = DataFrame()\n",
    "data[\"address_id\"] = addresses\n",
    "data[\"num_beds\"] = num_beds\n",
    "data[\"norm_basement_sq_ft\"] = norm_basement_sq_ft\n",
    "data[\"event_timestamp\"] = timestamps\n",
    "data[\"created\"] = timestamps"
   ]
  },
  {
   "cell_type": "code",
   "execution_count": null,
   "metadata": {},
   "outputs": [],
   "source": [
    "from os import getenv\n",
    "from sqlalchemy import create_engine, engine\n",
    "\n",
    "connection_string = engine.URL.create(\n",
    "    drivername=\"postgresql\",\n",
    "    username=getenv('DB_USERNAME'),\n",
    "    password=getenv('DB_PASSWORD'),\n",
    "    host=getenv('DB_HOST'),\n",
    "    database=getenv('DB_NAME'),\n",
    ")\n",
    "\n",
    "this_engine = create_engine(connection_string)\n",
    "data.to_sql('address_values', schema=\"feast\", con=this_engine, if_exists=\"append\", index=False)"
   ]
  },
  {
   "cell_type": "code",
   "execution_count": null,
   "metadata": {},
   "outputs": [],
   "source": [
    "from psycopg2 import connect\n",
    "\n",
    "try:\n",
    "    conn = connect(dbname=getenv('DB_NAME'), user=getenv('DB_USERNAME'), host=getenv('DB_HOST'), password=getenv('DB_PASSWORD'))\n",
    "except:\n",
    "    print(\"I am unable to connect to the database\")\n",
    "\n",
    "with conn.cursor() as curs:\n",
    "    curs.execute(\"SELECT count(1) from feast.address_values where address_id < 1000\")\n",
    "    single_row = curs.fetchone()\n",
    "    print(single_row)\n",
    "\n",
    "conn.close()"
   ]
  },
  {
   "cell_type": "code",
   "execution_count": null,
   "metadata": {},
   "outputs": [],
   "source": [
    "!feast materialize 2024-09-01T00:00:00 2026-01-01T00:00:00"
   ]
  },
  {
   "cell_type": "code",
   "execution_count": null,
   "metadata": {},
   "outputs": [],
   "source": [
    "from feast import FeatureStore\n",
    "\n",
    "store = FeatureStore(repo_path=\".\")"
   ]
  },
  {
   "cell_type": "code",
   "execution_count": null,
   "metadata": {},
   "outputs": [],
   "source": [
    "from pandas import DataFrame\n",
    "from datetime import datetime\n",
    "\n",
    "entity_df = DataFrame.from_dict(\n",
    "    {\n",
    "        \"address_id\": [1001, 1002, 1003, 1004, 1001],\n",
    "        \"event_timestamp\": [\n",
    "            datetime(2021, 4, 12, 10, 59, 42),\n",
    "            datetime(2021, 4, 12, 8, 12, 10),\n",
    "            datetime(2021, 4, 12, 16, 40, 26),\n",
    "            datetime(2021, 4, 12, 15, 1, 12),\n",
    "            datetime.now()\n",
    "        ]\n",
    "    }\n",
    ")\n",
    "training_df = store.get_historical_features(\n",
    "    entity_df=entity_df,\n",
    "    features=[\n",
    "        \"address_data:num_beds\",\n",
    "        \"address_data:norm_basement_sq_ft\",\n",
    "    ],\n",
    ").to_df()\n",
    "print(training_df.head())"
   ]
  },
  {
   "cell_type": "code",
   "execution_count": null,
   "metadata": {},
   "outputs": [],
   "source": [
    "from property_repo import address_v1\n",
    "\n",
    "features = store.get_online_features(\n",
    "    features=address_v1,\n",
    "    entity_rows=[\n",
    "        {\n",
    "            \"address_id\": 1001,\n",
    "            \"home_sq_ft\": 1500\n",
    "        }\n",
    "    ],\n",
    ").to_dict()\n",
    "\n",
    "def print_online_features(features):\n",
    "    for key, value in sorted(features.items()):\n",
    "        print(key, \" : \", value)\n",
    "\n",
    "print_online_features(features)"
   ]
  },
  {
   "cell_type": "code",
   "execution_count": null,
   "metadata": {},
   "outputs": [],
   "source": [
    "features = store.get_online_features(\n",
    "    features=[\n",
    "        \"address_data:norm_basement_sq_ft\",\n",
    "    ],\n",
    "    entity_rows=[\n",
    "        {\n",
    "            \"address_id\": 1001,\n",
    "        }\n",
    "    ],\n",
    ").to_dict()\n",
    "\n",
    "def print_online_features(features):\n",
    "    for key, value in sorted(features.items()):\n",
    "        print(key, \" : \", value)\n",
    "\n",
    "print_online_features(features)"
   ]
  },
  {
   "cell_type": "markdown",
   "metadata": {},
   "source": [
    "## Everything below this point is used to test the speed once you have validated that everything else is functioning correctly."
   ]
  },
  {
   "cell_type": "code",
   "execution_count": null,
   "metadata": {},
   "outputs": [],
   "source": [
    "from feast import FeatureStore\n",
    "from numpy import random\n",
    "from property_repo import address_v1\n",
    "from pandas import DataFrame\n",
    "\n",
    "store = FeatureStore(repo_path=\".\")"
   ]
  },
  {
   "cell_type": "code",
   "execution_count": null,
   "metadata": {},
   "outputs": [],
   "source": [
    "def run():\n",
    "    address_id = random.randint(0, 10000, 1)[0]\n",
    "\n",
    "    features = store.get_online_features(\n",
    "        features=address_v1,\n",
    "        entity_rows=[\n",
    "            {\n",
    "                \"address_id\": address_id,\n",
    "                \"home_sq_ft\": 1500,\n",
    "                \"num_beds\": 1,\n",
    "                \"basement_sq_ft\": 500\n",
    "            }\n",
    "        ],\n",
    "    ).to_df()\n",
    "    \n",
    "def run_straight_retrieval():\n",
    "    address_id = random.randint(0, 10000, 1)[0]\n",
    "\n",
    "    features = store.get_online_features(\n",
    "        features=[\n",
    "            \"address_data:norm_basement_sq_ft\"\n",
    "        ],\n",
    "        entity_rows=[\n",
    "            {\n",
    "                \"address_id\": address_id,\n",
    "                \"home_sq_ft\": 1500,\n",
    "                \"num_beds\": 1,\n",
    "                \"basement_sq_ft\": 500\n",
    "            }\n",
    "        ],\n",
    "    ).to_df()\n",
    "\n",
    "\n",
    "def run_in_memory():\n",
    "    address_id = random.randint(0, 10000, 1)[0]\n",
    "\n",
    "    entity_rows=[\n",
    "        {\n",
    "            \"address_id\": address_id,\n",
    "            \"home_sq_ft\": 1500,\n",
    "            \"num_beds\": 1,\n",
    "            \"basement_sq_ft\": 500\n",
    "        }\n",
    "    ]\n",
    "    \n",
    "    entity_df = DataFrame(entity_rows)\n",
    "    \n",
    "    new_data = DataFrame()\n",
    "    new_data[\"norm_home_sq_ft\"] = entity_df[\"home_sq_ft\"] / 3500\n",
    "    new_data[\"norm_num_beds\"] = entity_df[\"num_beds\"] / 10\n",
    "    new_data[\"norm_basement_sq_ft\"] = entity_df[\"basement_sq_ft\"] / 1500\n",
    "\n",
    "    \n",
    "def run_straight_retrieval_in_memory():\n",
    "    address_id = random.randint(0, 10000, 1)[0]\n",
    "\n",
    "    entity_rows=[\n",
    "        {\n",
    "            \"address_id\": address_id,\n",
    "            \"home_sq_ft\": 1500,\n",
    "            \"num_beds\": 1,\n",
    "            \"basement_sq_ft\": 500\n",
    "        }\n",
    "    ]\n",
    "    \n",
    "    entity_df = DataFrame(entity_rows)\n",
    "\n",
    "    new_data = DataFrame()\n",
    "    new_data[\"norm_basement_sq_ft\"] = entity_df[\"basement_sq_ft\"] / 1500"
   ]
  },
  {
   "cell_type": "code",
   "execution_count": null,
   "metadata": {},
   "outputs": [],
   "source": [
    "from timeit import timeit\n",
    "from numpy.random import seed\n",
    "\n",
    "seed(1235124)\n",
    "\n",
    "# Try all 4 combinations of run, run_straight_retrieval, run_in_memory, and run_straight_retrieval_in_memory.\n",
    "timeit(lambda: run(), number=10000)  # Don't go higher than 10,000 - it really starts to struggle."
   ]
  }
 ],
 "metadata": {
  "language_info": {
   "name": "python"
  }
 },
 "nbformat": 4,
 "nbformat_minor": 2
}
